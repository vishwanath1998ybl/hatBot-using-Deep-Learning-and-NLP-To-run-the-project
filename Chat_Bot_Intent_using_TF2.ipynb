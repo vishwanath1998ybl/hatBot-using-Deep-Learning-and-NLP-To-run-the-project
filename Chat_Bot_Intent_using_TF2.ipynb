{
 "cells": [
  {
   "cell_type": "code",
   "execution_count": 1,
   "metadata": {
    "id": "cG6iiCdawRrZ"
   },
   "outputs": [],
   "source": [
    "#importing the libraries\n",
    "import tensorflow as tf\n",
    "import numpy as np\n",
    "import pandas as pd\n",
    "import json\n",
    "import nltk\n",
    "from tensorflow.keras.preprocessing.text import Tokenizer\n",
    "from tensorflow.keras.layers import Input, Embedding, LSTM , Dense,GlobalMaxPooling1D,Flatten\n",
    "from tensorflow.keras.models import Model\n",
    "import matplotlib.pyplot as plt"
   ]
  },
  {
   "cell_type": "code",
   "execution_count": 2,
   "metadata": {
    "colab": {
     "base_uri": "https://localhost:8080/",
     "height": 109,
     "resources": {
      "http://localhost:8080/nbextensions/google.colab/files.js": {
       "data": "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",
       "headers": [
        [
         "content-type",
         "application/javascript"
        ]
       ],
       "ok": true,
       "status": 200,
       "status_text": ""
      }
     }
    },
    "id": "STfByX_hwX-g",
    "outputId": "e4f8c942-4cca-42bd-a4f2-062a3158201f"
   },
   "outputs": [
    {
     "data": {
      "text/html": [
       "\n",
       "     <input type=\"file\" id=\"files-b8e33e4d-0822-408f-8751-b6a103a09e8c\" name=\"files[]\" multiple disabled\n",
       "        style=\"border:none\" />\n",
       "     <output id=\"result-b8e33e4d-0822-408f-8751-b6a103a09e8c\">\n",
       "      Upload widget is only available when the cell has been executed in the\n",
       "      current browser session. Please rerun this cell to enable.\n",
       "      </output>\n",
       "      <script src=\"/nbextensions/google.colab/files.js\"></script> "
      ],
      "text/plain": [
       "<IPython.core.display.HTML object>"
      ]
     },
     "metadata": {
      "tags": []
     },
     "output_type": "display_data"
    },
    {
     "name": "stdout",
     "output_type": "stream",
     "text": [
      "Saving intents.json to intents.json\n"
     ]
    },
    {
     "data": {
      "text/plain": [
       "{'intents.json': b'{\"intents\": [\\r\\n        {\"tag\": \"greeting\",\\r\\n         \"patterns\": [\"Hi\", \"How are you\", \"Is anyone there?\", \"Hello\", \"Good day\", \"Whats up\"],\\r\\n         \"responses\": [\"Hello!\", \"Good to see you again!\", \"Hi there, how can I help?\"],\\r\\n         \"context_set\": \"\"\\r\\n        },\\r\\n        {\"tag\": \"goodbye\",\\r\\n         \"patterns\": [\"cya\", \"See you later\", \"Goodbye\", \"I am Leaving\", \"Have a Good day\"],\\r\\n         \"responses\": [\"Sad to see you go :(\", \"Talk to you later\", \"Goodbye!\"],\\r\\n         \"context_set\": \"\"\\r\\n        },\\r\\n        {\"tag\": \"age\",\\r\\n         \"patterns\": [\"how old\", \"how old is tim\", \"what is your age\", \"how old are you\", \"age?\"],\\r\\n         \"responses\": [\"I am 18 years old!\", \"18 years young!\"],\\r\\n         \"context_set\": \"\"\\r\\n        },\\r\\n        {\"tag\": \"name\",\\r\\n         \"patterns\": [\"what is your name\", \"what should I call you\", \"whats your name?\"],\\r\\n         \"responses\": [\"You can call me Tim.\", \"I\\'m Tim!\", \"I\\'m Tim aka Tech With Tim.\"],\\r\\n         \"context_set\": \"\"\\r\\n        },\\r\\n        {\"tag\": \"shop\",\\r\\n         \"patterns\": [\"Id like to buy something\", \"whats on the menu\", \"what do you reccommend?\", \"could i get something to eat\"],\\r\\n         \"responses\": [\"We sell chocolate chip cookies for $2!\", \"Cookies are on the menu!\"],\\r\\n         \"context_set\": \"\"\\r\\n        },\\r\\n        {\"tag\": \"hours\",\\r\\n         \"patterns\": [\"when are you guys open\", \"what are your hours\", \"hours of operation\"],\\r\\n         \"responses\": [\"We are open 7am-4pm Monday-Friday!\"],\\r\\n         \"context_set\": \"\"\\r\\n        }\\r\\n   ]\\r\\n}'}"
      ]
     },
     "execution_count": 2,
     "metadata": {
      "tags": []
     },
     "output_type": "execute_result"
    }
   ],
   "source": [
    "# Upload the file to Collab\n",
    "from google.colab import files\n",
    "files.upload()"
   ]
  },
  {
   "cell_type": "code",
   "execution_count": 4,
   "metadata": {
    "colab": {
     "base_uri": "https://localhost:8080/"
    },
    "id": "1Fli7F45wTCz",
    "outputId": "56efcb10-8a98-4c6d-d2c8-a7ca9508c812"
   },
   "outputs": [
    {
     "name": "stdout",
     "output_type": "stream",
     "text": [
      "                          inputs      tags\n",
      "0                             Hi  greeting\n",
      "1                    How are you  greeting\n",
      "2               Is anyone there?  greeting\n",
      "3                          Hello  greeting\n",
      "4                       Good day  greeting\n",
      "5                       Whats up  greeting\n",
      "6                            cya   goodbye\n",
      "7                  See you later   goodbye\n",
      "8                        Goodbye   goodbye\n",
      "9                   I am Leaving   goodbye\n",
      "10               Have a Good day   goodbye\n",
      "11                       how old       age\n",
      "12                how old is tim       age\n",
      "13              what is your age       age\n",
      "14               how old are you       age\n",
      "15                          age?       age\n",
      "16             what is your name      name\n",
      "17        what should I call you      name\n",
      "18              whats your name?      name\n",
      "19      Id like to buy something      shop\n",
      "20             whats on the menu      shop\n",
      "21       what do you reccommend?      shop\n",
      "22  could i get something to eat      shop\n",
      "23        when are you guys open     hours\n",
      "24           what are your hours     hours\n",
      "25            hours of operation     hours\n"
     ]
    }
   ],
   "source": [
    "#importing the dataset\n",
    "with open('intents.json') as content:\n",
    "  data1 = json.load(content)\n",
    "#getting all the data to lists\n",
    "tags = []\n",
    "inputs = []\n",
    "responses={}\n",
    "for intent in data1['intents']:\n",
    "  responses[intent['tag']]=intent['responses']\n",
    "  for lines in intent['patterns']:\n",
    "    inputs.append(lines)\n",
    "    tags.append(intent['tag'])\n",
    "#converting to dataframe\n",
    "data = pd.DataFrame({\"inputs\":inputs,\n",
    "                     \"tags\":tags})\n",
    "print(data)"
   ]
  },
  {
   "cell_type": "code",
   "execution_count": 5,
   "metadata": {
    "id": "5WcphkmTwd0w"
   },
   "outputs": [],
   "source": [
    "#removing punctuations\n",
    "import string\n",
    "data['inputs'] = data['inputs'].apply(lambda wrd:[ltrs.lower() for ltrs in wrd if ltrs not in string.punctuation])\n",
    "data['inputs'] = data['inputs'].apply(lambda wrd: ''.join(wrd))\n",
    "#tokenize the data\n",
    "from tensorflow.keras.preprocessing.text import Tokenizer\n",
    "tokenizer = Tokenizer(num_words=2000)\n",
    "tokenizer.fit_on_texts(data['inputs'])\n",
    "train = tokenizer.texts_to_sequences(data['inputs'])\n",
    "\n",
    "#apply padding\n",
    "from tensorflow.keras.preprocessing.sequence import pad_sequences\n",
    "x_train = pad_sequences(train)\n",
    "\n",
    "#encoding the outputs\n",
    "from sklearn.preprocessing import LabelEncoder\n",
    "le = LabelEncoder()\n",
    "y_train = le.fit_transform(data['tags'])"
   ]
  },
  {
   "cell_type": "code",
   "execution_count": 6,
   "metadata": {
    "colab": {
     "base_uri": "https://localhost:8080/"
    },
    "id": "ft-Zj_SWwljx",
    "outputId": "886a5236-dedb-4eb1-9131-229e57641aad"
   },
   "outputs": [
    {
     "name": "stdout",
     "output_type": "stream",
     "text": [
      "6\n",
      "number of unique words :  48\n",
      "output length:  6\n"
     ]
    }
   ],
   "source": [
    "#input length\n",
    "input_shape = x_train.shape[1]\n",
    "print(input_shape)\n",
    "#define vocabulary\n",
    "vocabulary = len(tokenizer.word_index)\n",
    "print(\"number of unique words : \",vocabulary)\n",
    "#output length\n",
    "output_length = le.classes_.shape[0]\n",
    "print(\"output length: \",output_length)\n"
   ]
  },
  {
   "cell_type": "code",
   "execution_count": 7,
   "metadata": {
    "colab": {
     "base_uri": "https://localhost:8080/"
    },
    "id": "ws8PndJ7wnvH",
    "outputId": "e0947c73-2d30-48ac-8db8-2aecbddf8add"
   },
   "outputs": [
    {
     "name": "stdout",
     "output_type": "stream",
     "text": [
      "Epoch 1/200\n",
      "1/1 [==============================] - 0s 2ms/step - loss: 1.7906 - accuracy: 0.1923\n",
      "Epoch 2/200\n",
      "1/1 [==============================] - 0s 1ms/step - loss: 1.7890 - accuracy: 0.1923\n",
      "Epoch 3/200\n",
      "1/1 [==============================] - 0s 1ms/step - loss: 1.7875 - accuracy: 0.2692\n",
      "Epoch 4/200\n",
      "1/1 [==============================] - 0s 1ms/step - loss: 1.7859 - accuracy: 0.2308\n",
      "Epoch 5/200\n",
      "1/1 [==============================] - 0s 2ms/step - loss: 1.7844 - accuracy: 0.2308\n",
      "Epoch 6/200\n",
      "1/1 [==============================] - 0s 2ms/step - loss: 1.7828 - accuracy: 0.2308\n",
      "Epoch 7/200\n",
      "1/1 [==============================] - 0s 2ms/step - loss: 1.7813 - accuracy: 0.2308\n",
      "Epoch 8/200\n",
      "1/1 [==============================] - 0s 2ms/step - loss: 1.7797 - accuracy: 0.2308\n",
      "Epoch 9/200\n",
      "1/1 [==============================] - 0s 2ms/step - loss: 1.7781 - accuracy: 0.2308\n",
      "Epoch 10/200\n",
      "1/1 [==============================] - 0s 3ms/step - loss: 1.7765 - accuracy: 0.2308\n",
      "Epoch 11/200\n",
      "1/1 [==============================] - 0s 4ms/step - loss: 1.7749 - accuracy: 0.2308\n",
      "Epoch 12/200\n",
      "1/1 [==============================] - 0s 2ms/step - loss: 1.7732 - accuracy: 0.2308\n",
      "Epoch 13/200\n",
      "1/1 [==============================] - 0s 3ms/step - loss: 1.7715 - accuracy: 0.2308\n",
      "Epoch 14/200\n",
      "1/1 [==============================] - 0s 2ms/step - loss: 1.7698 - accuracy: 0.2308\n",
      "Epoch 15/200\n",
      "1/1 [==============================] - 0s 3ms/step - loss: 1.7680 - accuracy: 0.2308\n",
      "Epoch 16/200\n",
      "1/1 [==============================] - 0s 3ms/step - loss: 1.7661 - accuracy: 0.2308\n",
      "Epoch 17/200\n",
      "1/1 [==============================] - 0s 3ms/step - loss: 1.7642 - accuracy: 0.2308\n",
      "Epoch 18/200\n",
      "1/1 [==============================] - 0s 2ms/step - loss: 1.7623 - accuracy: 0.2308\n",
      "Epoch 19/200\n",
      "1/1 [==============================] - 0s 2ms/step - loss: 1.7602 - accuracy: 0.2308\n",
      "Epoch 20/200\n",
      "1/1 [==============================] - 0s 2ms/step - loss: 1.7582 - accuracy: 0.2308\n",
      "Epoch 21/200\n",
      "1/1 [==============================] - 0s 2ms/step - loss: 1.7560 - accuracy: 0.2308\n",
      "Epoch 22/200\n",
      "1/1 [==============================] - 0s 2ms/step - loss: 1.7538 - accuracy: 0.2308\n",
      "Epoch 23/200\n",
      "1/1 [==============================] - 0s 3ms/step - loss: 1.7515 - accuracy: 0.2308\n",
      "Epoch 24/200\n",
      "1/1 [==============================] - 0s 2ms/step - loss: 1.7491 - accuracy: 0.2308\n",
      "Epoch 25/200\n",
      "1/1 [==============================] - 0s 2ms/step - loss: 1.7467 - accuracy: 0.2308\n",
      "Epoch 26/200\n",
      "1/1 [==============================] - 0s 2ms/step - loss: 1.7441 - accuracy: 0.2308\n",
      "Epoch 27/200\n",
      "1/1 [==============================] - 0s 2ms/step - loss: 1.7415 - accuracy: 0.2308\n",
      "Epoch 28/200\n",
      "1/1 [==============================] - 0s 1ms/step - loss: 1.7388 - accuracy: 0.2308\n",
      "Epoch 29/200\n",
      "1/1 [==============================] - 0s 2ms/step - loss: 1.7360 - accuracy: 0.2308\n",
      "Epoch 30/200\n",
      "1/1 [==============================] - 0s 4ms/step - loss: 1.7331 - accuracy: 0.2308\n",
      "Epoch 31/200\n",
      "1/1 [==============================] - 0s 2ms/step - loss: 1.7301 - accuracy: 0.2308\n",
      "Epoch 32/200\n",
      "1/1 [==============================] - 0s 2ms/step - loss: 1.7271 - accuracy: 0.2308\n",
      "Epoch 33/200\n",
      "1/1 [==============================] - 0s 3ms/step - loss: 1.7239 - accuracy: 0.2308\n",
      "Epoch 34/200\n",
      "1/1 [==============================] - 0s 3ms/step - loss: 1.7206 - accuracy: 0.2308\n",
      "Epoch 35/200\n",
      "1/1 [==============================] - 0s 1ms/step - loss: 1.7173 - accuracy: 0.2308\n",
      "Epoch 36/200\n",
      "1/1 [==============================] - 0s 3ms/step - loss: 1.7138 - accuracy: 0.2308\n",
      "Epoch 37/200\n",
      "1/1 [==============================] - 0s 2ms/step - loss: 1.7102 - accuracy: 0.2308\n",
      "Epoch 38/200\n",
      "1/1 [==============================] - 0s 2ms/step - loss: 1.7066 - accuracy: 0.2308\n",
      "Epoch 39/200\n",
      "1/1 [==============================] - 0s 2ms/step - loss: 1.7028 - accuracy: 0.2308\n",
      "Epoch 40/200\n",
      "1/1 [==============================] - 0s 2ms/step - loss: 1.6989 - accuracy: 0.2308\n",
      "Epoch 41/200\n",
      "1/1 [==============================] - 0s 2ms/step - loss: 1.6950 - accuracy: 0.2308\n",
      "Epoch 42/200\n",
      "1/1 [==============================] - 0s 2ms/step - loss: 1.6909 - accuracy: 0.2308\n",
      "Epoch 43/200\n",
      "1/1 [==============================] - 0s 2ms/step - loss: 1.6867 - accuracy: 0.2308\n",
      "Epoch 44/200\n",
      "1/1 [==============================] - 0s 2ms/step - loss: 1.6825 - accuracy: 0.2692\n",
      "Epoch 45/200\n",
      "1/1 [==============================] - 0s 2ms/step - loss: 1.6781 - accuracy: 0.2692\n",
      "Epoch 46/200\n",
      "1/1 [==============================] - 0s 2ms/step - loss: 1.6737 - accuracy: 0.2692\n",
      "Epoch 47/200\n",
      "1/1 [==============================] - 0s 4ms/step - loss: 1.6691 - accuracy: 0.2692\n",
      "Epoch 48/200\n",
      "1/1 [==============================] - 0s 2ms/step - loss: 1.6645 - accuracy: 0.2692\n",
      "Epoch 49/200\n",
      "1/1 [==============================] - 0s 3ms/step - loss: 1.6597 - accuracy: 0.2692\n",
      "Epoch 50/200\n",
      "1/1 [==============================] - 0s 2ms/step - loss: 1.6549 - accuracy: 0.2692\n",
      "Epoch 51/200\n",
      "1/1 [==============================] - 0s 2ms/step - loss: 1.6500 - accuracy: 0.2692\n",
      "Epoch 52/200\n",
      "1/1 [==============================] - 0s 2ms/step - loss: 1.6449 - accuracy: 0.2692\n",
      "Epoch 53/200\n",
      "1/1 [==============================] - 0s 3ms/step - loss: 1.6398 - accuracy: 0.2692\n",
      "Epoch 54/200\n",
      "1/1 [==============================] - 0s 4ms/step - loss: 1.6345 - accuracy: 0.2692\n",
      "Epoch 55/200\n",
      "1/1 [==============================] - 0s 2ms/step - loss: 1.6292 - accuracy: 0.2692\n",
      "Epoch 56/200\n",
      "1/1 [==============================] - 0s 2ms/step - loss: 1.6237 - accuracy: 0.2692\n",
      "Epoch 57/200\n",
      "1/1 [==============================] - 0s 2ms/step - loss: 1.6181 - accuracy: 0.2692\n",
      "Epoch 58/200\n",
      "1/1 [==============================] - 0s 2ms/step - loss: 1.6123 - accuracy: 0.2692\n",
      "Epoch 59/200\n",
      "1/1 [==============================] - 0s 2ms/step - loss: 1.6064 - accuracy: 0.2692\n",
      "Epoch 60/200\n",
      "1/1 [==============================] - 0s 2ms/step - loss: 1.6004 - accuracy: 0.2692\n",
      "Epoch 61/200\n",
      "1/1 [==============================] - 0s 2ms/step - loss: 1.5943 - accuracy: 0.2692\n",
      "Epoch 62/200\n",
      "1/1 [==============================] - 0s 2ms/step - loss: 1.5880 - accuracy: 0.2692\n",
      "Epoch 63/200\n",
      "1/1 [==============================] - 0s 2ms/step - loss: 1.5816 - accuracy: 0.2692\n",
      "Epoch 64/200\n",
      "1/1 [==============================] - 0s 2ms/step - loss: 1.5750 - accuracy: 0.2692\n",
      "Epoch 65/200\n",
      "1/1 [==============================] - 0s 2ms/step - loss: 1.5683 - accuracy: 0.2692\n",
      "Epoch 66/200\n",
      "1/1 [==============================] - 0s 2ms/step - loss: 1.5614 - accuracy: 0.2692\n",
      "Epoch 67/200\n",
      "1/1 [==============================] - 0s 2ms/step - loss: 1.5544 - accuracy: 0.2692\n",
      "Epoch 68/200\n",
      "1/1 [==============================] - 0s 2ms/step - loss: 1.5473 - accuracy: 0.3077\n",
      "Epoch 69/200\n",
      "1/1 [==============================] - 0s 2ms/step - loss: 1.5400 - accuracy: 0.3462\n",
      "Epoch 70/200\n",
      "1/1 [==============================] - 0s 2ms/step - loss: 1.5326 - accuracy: 0.3462\n",
      "Epoch 71/200\n",
      "1/1 [==============================] - 0s 2ms/step - loss: 1.5250 - accuracy: 0.3846\n",
      "Epoch 72/200\n",
      "1/1 [==============================] - 0s 2ms/step - loss: 1.5173 - accuracy: 0.3846\n",
      "Epoch 73/200\n",
      "1/1 [==============================] - 0s 2ms/step - loss: 1.5095 - accuracy: 0.3846\n",
      "Epoch 74/200\n",
      "1/1 [==============================] - 0s 3ms/step - loss: 1.5016 - accuracy: 0.3846\n",
      "Epoch 75/200\n",
      "1/1 [==============================] - 0s 2ms/step - loss: 1.4936 - accuracy: 0.3846\n",
      "Epoch 76/200\n",
      "1/1 [==============================] - 0s 2ms/step - loss: 1.4855 - accuracy: 0.3846\n",
      "Epoch 77/200\n",
      "1/1 [==============================] - 0s 2ms/step - loss: 1.4772 - accuracy: 0.3846\n",
      "Epoch 78/200\n",
      "1/1 [==============================] - 0s 2ms/step - loss: 1.4689 - accuracy: 0.3846\n",
      "Epoch 79/200\n",
      "1/1 [==============================] - 0s 2ms/step - loss: 1.4604 - accuracy: 0.3846\n",
      "Epoch 80/200\n",
      "1/1 [==============================] - 0s 2ms/step - loss: 1.4519 - accuracy: 0.3846\n",
      "Epoch 81/200\n",
      "1/1 [==============================] - 0s 2ms/step - loss: 1.4433 - accuracy: 0.3846\n",
      "Epoch 82/200\n",
      "1/1 [==============================] - 0s 5ms/step - loss: 1.4347 - accuracy: 0.3846\n",
      "Epoch 83/200\n",
      "1/1 [==============================] - 0s 2ms/step - loss: 1.4259 - accuracy: 0.3846\n",
      "Epoch 84/200\n",
      "1/1 [==============================] - 0s 2ms/step - loss: 1.4171 - accuracy: 0.3846\n",
      "Epoch 85/200\n",
      "1/1 [==============================] - 0s 3ms/step - loss: 1.4083 - accuracy: 0.3846\n",
      "Epoch 86/200\n",
      "1/1 [==============================] - 0s 3ms/step - loss: 1.3994 - accuracy: 0.3846\n",
      "Epoch 87/200\n",
      "1/1 [==============================] - 0s 6ms/step - loss: 1.3904 - accuracy: 0.4231\n",
      "Epoch 88/200\n",
      "1/1 [==============================] - 0s 2ms/step - loss: 1.3815 - accuracy: 0.4231\n",
      "Epoch 89/200\n",
      "1/1 [==============================] - 0s 2ms/step - loss: 1.3725 - accuracy: 0.4231\n",
      "Epoch 90/200\n",
      "1/1 [==============================] - 0s 2ms/step - loss: 1.3634 - accuracy: 0.4615\n",
      "Epoch 91/200\n",
      "1/1 [==============================] - 0s 2ms/step - loss: 1.3544 - accuracy: 0.4615\n",
      "Epoch 92/200\n",
      "1/1 [==============================] - 0s 3ms/step - loss: 1.3453 - accuracy: 0.4615\n",
      "Epoch 93/200\n",
      "1/1 [==============================] - 0s 2ms/step - loss: 1.3362 - accuracy: 0.5385\n",
      "Epoch 94/200\n",
      "1/1 [==============================] - 0s 2ms/step - loss: 1.3271 - accuracy: 0.5385\n",
      "Epoch 95/200\n",
      "1/1 [==============================] - 0s 2ms/step - loss: 1.3180 - accuracy: 0.5385\n",
      "Epoch 96/200\n",
      "1/1 [==============================] - 0s 2ms/step - loss: 1.3089 - accuracy: 0.5385\n",
      "Epoch 97/200\n",
      "1/1 [==============================] - 0s 3ms/step - loss: 1.2998 - accuracy: 0.5385\n",
      "Epoch 98/200\n",
      "1/1 [==============================] - 0s 3ms/step - loss: 1.2907 - accuracy: 0.5385\n",
      "Epoch 99/200\n",
      "1/1 [==============================] - 0s 2ms/step - loss: 1.2816 - accuracy: 0.5385\n",
      "Epoch 100/200\n",
      "1/1 [==============================] - 0s 3ms/step - loss: 1.2726 - accuracy: 0.5385\n",
      "Epoch 101/200\n",
      "1/1 [==============================] - 0s 2ms/step - loss: 1.2635 - accuracy: 0.5385\n",
      "Epoch 102/200\n",
      "1/1 [==============================] - 0s 8ms/step - loss: 1.2545 - accuracy: 0.5385\n",
      "Epoch 103/200\n",
      "1/1 [==============================] - 0s 2ms/step - loss: 1.2454 - accuracy: 0.5385\n",
      "Epoch 104/200\n",
      "1/1 [==============================] - 0s 3ms/step - loss: 1.2364 - accuracy: 0.5385\n",
      "Epoch 105/200\n",
      "1/1 [==============================] - 0s 7ms/step - loss: 1.2275 - accuracy: 0.5385\n",
      "Epoch 106/200\n",
      "1/1 [==============================] - 0s 3ms/step - loss: 1.2185 - accuracy: 0.5385\n",
      "Epoch 107/200\n",
      "1/1 [==============================] - 0s 7ms/step - loss: 1.2096 - accuracy: 0.5385\n",
      "Epoch 108/200\n",
      "1/1 [==============================] - 0s 25ms/step - loss: 1.2007 - accuracy: 0.5385\n",
      "Epoch 109/200\n",
      "1/1 [==============================] - 0s 3ms/step - loss: 1.1918 - accuracy: 0.5385\n",
      "Epoch 110/200\n",
      "1/1 [==============================] - 0s 5ms/step - loss: 1.1829 - accuracy: 0.5385\n",
      "Epoch 111/200\n",
      "1/1 [==============================] - 0s 2ms/step - loss: 1.1741 - accuracy: 0.5385\n",
      "Epoch 112/200\n",
      "1/1 [==============================] - 0s 2ms/step - loss: 1.1653 - accuracy: 0.5385\n",
      "Epoch 113/200\n",
      "1/1 [==============================] - 0s 2ms/step - loss: 1.1566 - accuracy: 0.5385\n",
      "Epoch 114/200\n",
      "1/1 [==============================] - 0s 1ms/step - loss: 1.1479 - accuracy: 0.5385\n",
      "Epoch 115/200\n",
      "1/1 [==============================] - 0s 3ms/step - loss: 1.1392 - accuracy: 0.5385\n",
      "Epoch 116/200\n",
      "1/1 [==============================] - 0s 3ms/step - loss: 1.1305 - accuracy: 0.5385\n",
      "Epoch 117/200\n",
      "1/1 [==============================] - 0s 2ms/step - loss: 1.1219 - accuracy: 0.5385\n",
      "Epoch 118/200\n",
      "1/1 [==============================] - 0s 2ms/step - loss: 1.1133 - accuracy: 0.5385\n",
      "Epoch 119/200\n",
      "1/1 [==============================] - 0s 3ms/step - loss: 1.1047 - accuracy: 0.5769\n",
      "Epoch 120/200\n",
      "1/1 [==============================] - 0s 2ms/step - loss: 1.0962 - accuracy: 0.5769\n",
      "Epoch 121/200\n",
      "1/1 [==============================] - 0s 2ms/step - loss: 1.0877 - accuracy: 0.5769\n",
      "Epoch 122/200\n",
      "1/1 [==============================] - 0s 2ms/step - loss: 1.0793 - accuracy: 0.6154\n",
      "Epoch 123/200\n",
      "1/1 [==============================] - 0s 2ms/step - loss: 1.0709 - accuracy: 0.6154\n",
      "Epoch 124/200\n",
      "1/1 [==============================] - 0s 2ms/step - loss: 1.0625 - accuracy: 0.6154\n",
      "Epoch 125/200\n",
      "1/1 [==============================] - 0s 2ms/step - loss: 1.0541 - accuracy: 0.6154\n",
      "Epoch 126/200\n",
      "1/1 [==============================] - 0s 2ms/step - loss: 1.0458 - accuracy: 0.6154\n",
      "Epoch 127/200\n",
      "1/1 [==============================] - 0s 3ms/step - loss: 1.0375 - accuracy: 0.6154\n",
      "Epoch 128/200\n",
      "1/1 [==============================] - 0s 3ms/step - loss: 1.0293 - accuracy: 0.6154\n",
      "Epoch 129/200\n",
      "1/1 [==============================] - 0s 2ms/step - loss: 1.0211 - accuracy: 0.6154\n",
      "Epoch 130/200\n",
      "1/1 [==============================] - 0s 2ms/step - loss: 1.0129 - accuracy: 0.6154\n",
      "Epoch 131/200\n",
      "1/1 [==============================] - 0s 2ms/step - loss: 1.0047 - accuracy: 0.6538\n",
      "Epoch 132/200\n",
      "1/1 [==============================] - 0s 2ms/step - loss: 0.9966 - accuracy: 0.6538\n",
      "Epoch 133/200\n",
      "1/1 [==============================] - 0s 1ms/step - loss: 0.9886 - accuracy: 0.6538\n",
      "Epoch 134/200\n",
      "1/1 [==============================] - 0s 2ms/step - loss: 0.9805 - accuracy: 0.6538\n",
      "Epoch 135/200\n",
      "1/1 [==============================] - 0s 2ms/step - loss: 0.9725 - accuracy: 0.6538\n",
      "Epoch 136/200\n",
      "1/1 [==============================] - 0s 3ms/step - loss: 0.9645 - accuracy: 0.6538\n",
      "Epoch 137/200\n",
      "1/1 [==============================] - 0s 2ms/step - loss: 0.9566 - accuracy: 0.6538\n",
      "Epoch 138/200\n",
      "1/1 [==============================] - 0s 5ms/step - loss: 0.9486 - accuracy: 0.7308\n",
      "Epoch 139/200\n",
      "1/1 [==============================] - 0s 8ms/step - loss: 0.9408 - accuracy: 0.7308\n",
      "Epoch 140/200\n",
      "1/1 [==============================] - 0s 3ms/step - loss: 0.9329 - accuracy: 0.8077\n",
      "Epoch 141/200\n",
      "1/1 [==============================] - 0s 2ms/step - loss: 0.9251 - accuracy: 0.8077\n",
      "Epoch 142/200\n",
      "1/1 [==============================] - 0s 2ms/step - loss: 0.9173 - accuracy: 0.8077\n",
      "Epoch 143/200\n",
      "1/1 [==============================] - 0s 2ms/step - loss: 0.9095 - accuracy: 0.8077\n",
      "Epoch 144/200\n",
      "1/1 [==============================] - 0s 2ms/step - loss: 0.9018 - accuracy: 0.8077\n",
      "Epoch 145/200\n",
      "1/1 [==============================] - 0s 2ms/step - loss: 0.8941 - accuracy: 0.8077\n",
      "Epoch 146/200\n",
      "1/1 [==============================] - 0s 2ms/step - loss: 0.8864 - accuracy: 0.8077\n",
      "Epoch 147/200\n",
      "1/1 [==============================] - 0s 4ms/step - loss: 0.8788 - accuracy: 0.8077\n",
      "Epoch 148/200\n",
      "1/1 [==============================] - 0s 3ms/step - loss: 0.8711 - accuracy: 0.8077\n",
      "Epoch 149/200\n",
      "1/1 [==============================] - 0s 2ms/step - loss: 0.8636 - accuracy: 0.8077\n",
      "Epoch 150/200\n",
      "1/1 [==============================] - 0s 2ms/step - loss: 0.8560 - accuracy: 0.8077\n",
      "Epoch 151/200\n",
      "1/1 [==============================] - 0s 3ms/step - loss: 0.8485 - accuracy: 0.8077\n",
      "Epoch 152/200\n",
      "1/1 [==============================] - 0s 2ms/step - loss: 0.8410 - accuracy: 0.8077\n",
      "Epoch 153/200\n",
      "1/1 [==============================] - 0s 2ms/step - loss: 0.8335 - accuracy: 0.8077\n",
      "Epoch 154/200\n",
      "1/1 [==============================] - 0s 2ms/step - loss: 0.8260 - accuracy: 0.8077\n",
      "Epoch 155/200\n",
      "1/1 [==============================] - 0s 3ms/step - loss: 0.8186 - accuracy: 0.8077\n",
      "Epoch 156/200\n",
      "1/1 [==============================] - 0s 3ms/step - loss: 0.8112 - accuracy: 0.8077\n",
      "Epoch 157/200\n",
      "1/1 [==============================] - 0s 3ms/step - loss: 0.8038 - accuracy: 0.8077\n",
      "Epoch 158/200\n",
      "1/1 [==============================] - 0s 2ms/step - loss: 0.7964 - accuracy: 0.8462\n",
      "Epoch 159/200\n",
      "1/1 [==============================] - 0s 2ms/step - loss: 0.7890 - accuracy: 0.8462\n",
      "Epoch 160/200\n",
      "1/1 [==============================] - 0s 2ms/step - loss: 0.7817 - accuracy: 0.8462\n",
      "Epoch 161/200\n",
      "1/1 [==============================] - 0s 3ms/step - loss: 0.7744 - accuracy: 0.8846\n",
      "Epoch 162/200\n",
      "1/1 [==============================] - 0s 5ms/step - loss: 0.7671 - accuracy: 0.8846\n",
      "Epoch 163/200\n",
      "1/1 [==============================] - 0s 3ms/step - loss: 0.7598 - accuracy: 0.8846\n",
      "Epoch 164/200\n",
      "1/1 [==============================] - 0s 3ms/step - loss: 0.7525 - accuracy: 0.8846\n",
      "Epoch 165/200\n",
      "1/1 [==============================] - 0s 3ms/step - loss: 0.7453 - accuracy: 0.8846\n",
      "Epoch 166/200\n",
      "1/1 [==============================] - 0s 4ms/step - loss: 0.7381 - accuracy: 0.8846\n",
      "Epoch 167/200\n",
      "1/1 [==============================] - 0s 3ms/step - loss: 0.7309 - accuracy: 0.8846\n",
      "Epoch 168/200\n",
      "1/1 [==============================] - 0s 3ms/step - loss: 0.7237 - accuracy: 0.8846\n",
      "Epoch 169/200\n",
      "1/1 [==============================] - 0s 2ms/step - loss: 0.7165 - accuracy: 0.8846\n",
      "Epoch 170/200\n",
      "1/1 [==============================] - 0s 3ms/step - loss: 0.7093 - accuracy: 0.8846\n",
      "Epoch 171/200\n",
      "1/1 [==============================] - 0s 3ms/step - loss: 0.7021 - accuracy: 0.8846\n",
      "Epoch 172/200\n",
      "1/1 [==============================] - 0s 2ms/step - loss: 0.6950 - accuracy: 0.8846\n",
      "Epoch 173/200\n",
      "1/1 [==============================] - 0s 3ms/step - loss: 0.6878 - accuracy: 0.8846\n",
      "Epoch 174/200\n",
      "1/1 [==============================] - 0s 10ms/step - loss: 0.6807 - accuracy: 0.8846\n",
      "Epoch 175/200\n",
      "1/1 [==============================] - 0s 3ms/step - loss: 0.6736 - accuracy: 0.8846\n",
      "Epoch 176/200\n",
      "1/1 [==============================] - 0s 3ms/step - loss: 0.6665 - accuracy: 0.8846\n",
      "Epoch 177/200\n",
      "1/1 [==============================] - 0s 2ms/step - loss: 0.6594 - accuracy: 0.8846\n",
      "Epoch 178/200\n",
      "1/1 [==============================] - 0s 2ms/step - loss: 0.6523 - accuracy: 0.9231\n",
      "Epoch 179/200\n",
      "1/1 [==============================] - 0s 1ms/step - loss: 0.6453 - accuracy: 0.9231\n",
      "Epoch 180/200\n",
      "1/1 [==============================] - 0s 2ms/step - loss: 0.6382 - accuracy: 0.9231\n",
      "Epoch 181/200\n",
      "1/1 [==============================] - 0s 3ms/step - loss: 0.6312 - accuracy: 0.9231\n",
      "Epoch 182/200\n",
      "1/1 [==============================] - 0s 2ms/step - loss: 0.6242 - accuracy: 0.9231\n",
      "Epoch 183/200\n",
      "1/1 [==============================] - 0s 2ms/step - loss: 0.6172 - accuracy: 0.9231\n",
      "Epoch 184/200\n",
      "1/1 [==============================] - 0s 2ms/step - loss: 0.6102 - accuracy: 0.9231\n",
      "Epoch 185/200\n",
      "1/1 [==============================] - 0s 2ms/step - loss: 0.6032 - accuracy: 0.9231\n",
      "Epoch 186/200\n",
      "1/1 [==============================] - 0s 3ms/step - loss: 0.5963 - accuracy: 0.9231\n",
      "Epoch 187/200\n",
      "1/1 [==============================] - 0s 2ms/step - loss: 0.5893 - accuracy: 0.9231\n",
      "Epoch 188/200\n",
      "1/1 [==============================] - 0s 8ms/step - loss: 0.5824 - accuracy: 0.9231\n",
      "Epoch 189/200\n",
      "1/1 [==============================] - 0s 2ms/step - loss: 0.5755 - accuracy: 0.9231\n",
      "Epoch 190/200\n",
      "1/1 [==============================] - 0s 2ms/step - loss: 0.5686 - accuracy: 0.9231\n",
      "Epoch 191/200\n",
      "1/1 [==============================] - 0s 3ms/step - loss: 0.5618 - accuracy: 0.9231\n",
      "Epoch 192/200\n",
      "1/1 [==============================] - 0s 8ms/step - loss: 0.5549 - accuracy: 0.9231\n",
      "Epoch 193/200\n",
      "1/1 [==============================] - 0s 2ms/step - loss: 0.5481 - accuracy: 0.9231\n",
      "Epoch 194/200\n",
      "1/1 [==============================] - 0s 2ms/step - loss: 0.5413 - accuracy: 0.9231\n",
      "Epoch 195/200\n",
      "1/1 [==============================] - 0s 7ms/step - loss: 0.5346 - accuracy: 0.9231\n",
      "Epoch 196/200\n",
      "1/1 [==============================] - 0s 3ms/step - loss: 0.5279 - accuracy: 0.9231\n",
      "Epoch 197/200\n",
      "1/1 [==============================] - 0s 3ms/step - loss: 0.5212 - accuracy: 0.9615\n",
      "Epoch 198/200\n",
      "1/1 [==============================] - 0s 3ms/step - loss: 0.5145 - accuracy: 0.9615\n",
      "Epoch 199/200\n",
      "1/1 [==============================] - 0s 2ms/step - loss: 0.5079 - accuracy: 0.9615\n",
      "Epoch 200/200\n",
      "1/1 [==============================] - 0s 8ms/step - loss: 0.5013 - accuracy: 0.9615\n"
     ]
    }
   ],
   "source": [
    "#creating the model\n",
    "i = Input(shape=(input_shape,))\n",
    "x = Embedding(vocabulary+1,10)(i)\n",
    "x = LSTM(10,return_sequences=True)(x)\n",
    "x = Flatten()(x)\n",
    "x = Dense(output_length,activation=\"softmax\")(x)\n",
    "model  = Model(i,x)\n",
    "#compiling the model\n",
    "model.compile(loss=\"sparse_categorical_crossentropy\",optimizer='adam',metrics=['accuracy'])\n",
    "#training the model\n",
    "train = model.fit(x_train,y_train,epochs=200)"
   ]
  },
  {
   "cell_type": "code",
   "execution_count": 11,
   "metadata": {
    "colab": {
     "base_uri": "https://localhost:8080/"
    },
    "id": "DHXxgNoawpS8",
    "outputId": "3d4d624d-1625-425b-e4fe-b4a4096d73bc"
   },
   "outputs": [
    {
     "name": "stdout",
     "output_type": "stream",
     "text": [
      "You : Hi\n",
      "Going Merry :  Hi there, how can I help?\n",
      "You : How old are you\n",
      "Going Merry :  18 years young!\n",
      "You : Goodbye\n",
      "Going Merry :  Sad to see you go :(\n"
     ]
    }
   ],
   "source": [
    "#chatting\n",
    "import random\n",
    "while True:\n",
    "  texts_p = []\n",
    "  prediction_input = input('You : ')\n",
    "  #removing punctuation and converting to lowercase\n",
    "  prediction_input = [letters.lower() for letters in prediction_input if letters not in string.punctuation]\n",
    "  prediction_input = ''.join(prediction_input)\n",
    "  texts_p.append(prediction_input)\n",
    "  #tokenizing and padding\n",
    "  prediction_input = tokenizer.texts_to_sequences(texts_p)\n",
    "  prediction_input = np.array(prediction_input).reshape(-1)\n",
    "  prediction_input = pad_sequences([prediction_input],input_shape)\n",
    "  #getting output from model\n",
    "  output = model.predict(prediction_input)\n",
    "  output = output.argmax()\n",
    "  #finding the right tag and predicting\n",
    "  response_tag = le.inverse_transform([output])[0]\n",
    "  print(\"Going ChatBot : \",random.choice(responses[response_tag]))\n",
    "  if response_tag == \"goodbye\":\n",
    "    break"
   ]
  },
  {
   "cell_type": "code",
   "execution_count": 13,
   "metadata": {
    "id": "SSXAAO03ws4t"
   },
   "outputs": [],
   "source": [
    "import pickle\n",
    "import joblib"
   ]
  },
  {
   "cell_type": "code",
   "execution_count": 14,
   "metadata": {
    "id": "5KgDRguDzM7v"
   },
   "outputs": [],
   "source": [
    "model.save('intents_chatbot_tf2_lstm.h5')"
   ]
  },
  {
   "cell_type": "code",
   "execution_count": 15,
   "metadata": {
    "colab": {
     "base_uri": "https://localhost:8080/"
    },
    "id": "YP5fSCGxzIgr",
    "outputId": "4897a241-4df6-43ea-9af7-245b5e194fd3"
   },
   "outputs": [
    {
     "data": {
      "text/plain": [
       "['token_chatbot.pkl']"
      ]
     },
     "execution_count": 15,
     "metadata": {
      "tags": []
     },
     "output_type": "execute_result"
    }
   ],
   "source": [
    "joblib.dump(tokenizer,'token_chatbot.pkl')"
   ]
  },
  {
   "cell_type": "code",
   "execution_count": null,
   "metadata": {
    "id": "5jsT0z1fza7N"
   },
   "outputs": [],
   "source": []
  }
 ],
 "metadata": {
  "colab": {
   "collapsed_sections": [],
   "name": "Chat Bot Intent using TF2.ipynb",
   "provenance": []
  },
  "kernelspec": {
   "display_name": "Python 3",
   "language": "python",
   "name": "python3"
  },
  "language_info": {
   "codemirror_mode": {
    "name": "ipython",
    "version": 3
   },
   "file_extension": ".py",
   "mimetype": "text/x-python",
   "name": "python",
   "nbconvert_exporter": "python",
   "pygments_lexer": "ipython3",
   "version": "3.8.3"
  }
 },
 "nbformat": 4,
 "nbformat_minor": 4
}
